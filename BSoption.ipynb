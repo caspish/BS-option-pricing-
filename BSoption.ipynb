{
 "cells": [
  {
   "cell_type": "code",
   "execution_count": 5,
   "metadata": {},
   "outputs": [
    {
     "name": "stdout",
     "output_type": "stream",
     "text": [
      "Current Stock Price?: 199.69\n",
      "Strike Price?: 152.50\n",
      "Days to Expiration?: 2\n",
      "Current Interest Rate?: .02\n",
      "Sigma?: 2.35\n",
      "Dividend Rate?: 0.0\n",
      "\n",
      "Call Price = 48.0\n",
      "Put Price = 0.79\n"
     ]
    }
   ],
   "source": [
    "from math import sqrt, exp, log, erf\n",
    "\n",
    "from decimal import *\n",
    "getcontext().prec = 5\n",
    "\n",
    "#inputs\n",
    "undprice = float(input(\"Current Stock Price?: \"))   # S\n",
    "strike = float(input(\"Strike Price?: \"))            # K\n",
    "time = float(input(\"Days to Expiration?: \"))        # time until expiration in days\n",
    "rate = float(input(\"Current Interest Rate?: \"))     # Annualized risk free rate\n",
    "sigma = float(input(\"Sigma?: \"))                    # Standard Deviation of stock's returns\n",
    "divrate = float(input(\"Dividend Rate?: \"))          # Dividend yield on stock\n",
    "\n",
    "#statistics\n",
    "sigTsquared = sqrt(Decimal(time)/365)*sigma\n",
    "edivT = exp((-divrate*time)/365)\n",
    "ert = exp((-rate*time)/365)\n",
    "d1 = (log(undprice*edivT/strike)+(rate+.5*(sigma**2))*time/365)/sigTsquared\n",
    "d2 = d1-sigTsquared\n",
    "Nd1 = (1+erf(d1/sqrt(2)))/2\n",
    "Nd2 = (1+erf(d2/sqrt(2)))/2\n",
    "iNd1 = (1+erf(-d1/sqrt(2)))/2\n",
    "iNd2 = (1+erf(-d2/sqrt(2)))/2\n",
    "\n",
    "#Outputs\n",
    "callPrice = round(undprice*edivT*Nd1-strike*ert*Nd2, 2)\n",
    "putPrice = round(strike*ert*iNd2-undprice*edivT*iNd1, 2)\n",
    "\n",
    "#Operations\n",
    "print(\"\")\n",
    "print(\"Call Price = \" + str(callPrice) )\n",
    "print(\"Put Price = \" + str(putPrice) )\n"
   ]
  },
  {
   "cell_type": "markdown",
   "metadata": {},
   "source": []
  },
  {
   "cell_type": "code",
   "execution_count": null,
   "metadata": {},
   "outputs": [],
   "source": []
  }
 ],
 "metadata": {
  "kernelspec": {
   "display_name": "Python 3",
   "language": "python",
   "name": "python3"
  },
  "language_info": {
   "codemirror_mode": {
    "name": "ipython",
    "version": 3
   },
   "file_extension": ".py",
   "mimetype": "text/x-python",
   "name": "python",
   "nbconvert_exporter": "python",
   "pygments_lexer": "ipython3",
   "version": "3.6.4"
  }
 },
 "nbformat": 4,
 "nbformat_minor": 2
}
